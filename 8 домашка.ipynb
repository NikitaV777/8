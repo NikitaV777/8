{
 "cells": [
  {
   "cell_type": "code",
   "execution_count": 3,
   "metadata": {},
   "outputs": [
    {
     "name": "stdout",
     "output_type": "stream",
     "text": [
      "error1\n",
      "error2\n"
     ]
    }
   ],
   "source": [
    "def oops():\n",
    "    raise IndexError\n",
    "\n",
    "def another_function():\n",
    "    try:\n",
    "        oops()\n",
    "    except IndexError:\n",
    "        print('error1')\n",
    "\n",
    "another_function()\n",
    "\n",
    "def oops1():\n",
    "    raise KeyError\n",
    "\n",
    "def another_function1():\n",
    "    try:\n",
    "        oops1()\n",
    "    except (IndexError, KeyError):\n",
    "        print('error2')\n",
    "\n",
    "another_function1()"
   ]
  },
  {
   "cell_type": "code",
   "execution_count": null,
   "metadata": {},
   "outputs": [],
   "source": []
  }
 ],
 "metadata": {
  "kernelspec": {
   "display_name": "Python 3",
   "language": "python",
   "name": "python3"
  },
  "language_info": {
   "codemirror_mode": {
    "name": "ipython",
    "version": 3
   },
   "file_extension": ".py",
   "mimetype": "text/x-python",
   "name": "python",
   "nbconvert_exporter": "python",
   "pygments_lexer": "ipython3",
   "version": "3.7.3"
  }
 },
 "nbformat": 4,
 "nbformat_minor": 2
}
